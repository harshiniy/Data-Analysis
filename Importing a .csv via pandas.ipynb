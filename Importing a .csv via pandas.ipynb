{
 "cells": [
  {
   "cell_type": "code",
   "execution_count": 6,
   "metadata": {
    "collapsed": true
   },
   "outputs": [],
   "source": [
    "import pandas as pd"
   ]
  },
  {
   "cell_type": "code",
   "execution_count": 21,
   "metadata": {
    "collapsed": false
   },
   "outputs": [],
   "source": [
    "data = pd.read_csv('C:\\Harshini\\September 14_FINAL - Backup\\CEI\\Q1 2016 Work\\Improve CUrrent CEI\\Model1.csv', index_col = 0  )"
   ]
  },
  {
   "cell_type": "code",
   "execution_count": 22,
   "metadata": {
    "collapsed": false
   },
   "outputs": [
    {
     "data": {
      "text/html": [
       "<div>\n",
       "<table border=\"1\" class=\"dataframe\">\n",
       "  <thead>\n",
       "    <tr style=\"text-align: right;\">\n",
       "      <th></th>\n",
       "      <th>Partner ?</th>\n",
       "      <th>Partner Program</th>\n",
       "      <th>Customer Internal ID</th>\n",
       "      <th>Customer</th>\n",
       "      <th>Primary Contact</th>\n",
       "      <th>Phone</th>\n",
       "      <th>Email</th>\n",
       "      <th>Billing State/Province</th>\n",
       "      <th>Billing Country</th>\n",
       "      <th>Login Name</th>\n",
       "      <th>...</th>\n",
       "      <th>FirstCompanyNPS</th>\n",
       "      <th>FirstNPSComment</th>\n",
       "      <th>TotalLoginslast2months</th>\n",
       "      <th>Campaignspublishedlast2months</th>\n",
       "      <th>Camp20</th>\n",
       "      <th>Broadcastssentlast2months</th>\n",
       "      <th>ACC</th>\n",
       "      <th>APIHitslast2months</th>\n",
       "      <th>Payment$last2months</th>\n",
       "      <th>Status</th>\n",
       "    </tr>\n",
       "    <tr>\n",
       "      <th>Contract Internal ID</th>\n",
       "      <th></th>\n",
       "      <th></th>\n",
       "      <th></th>\n",
       "      <th></th>\n",
       "      <th></th>\n",
       "      <th></th>\n",
       "      <th></th>\n",
       "      <th></th>\n",
       "      <th></th>\n",
       "      <th></th>\n",
       "      <th></th>\n",
       "      <th></th>\n",
       "      <th></th>\n",
       "      <th></th>\n",
       "      <th></th>\n",
       "      <th></th>\n",
       "      <th></th>\n",
       "      <th></th>\n",
       "      <th></th>\n",
       "      <th></th>\n",
       "      <th></th>\n",
       "    </tr>\n",
       "  </thead>\n",
       "  <tbody>\n",
       "    <tr>\n",
       "      <th>2876838</th>\n",
       "      <td>1</td>\n",
       "      <td>Affiliate</td>\n",
       "      <td>80168791</td>\n",
       "      <td>1195168 Leaders R Us</td>\n",
       "      <td>Michael Grimm</td>\n",
       "      <td>(818) 253-1762</td>\n",
       "      <td>michael@poorjellyfish.com</td>\n",
       "      <td>FL</td>\n",
       "      <td>United States</td>\n",
       "      <td>ax256</td>\n",
       "      <td>...</td>\n",
       "      <td>NaN</td>\n",
       "      <td>NaN</td>\n",
       "      <td>2</td>\n",
       "      <td>0</td>\n",
       "      <td>0</td>\n",
       "      <td>1</td>\n",
       "      <td>0</td>\n",
       "      <td>0</td>\n",
       "      <td>NaN</td>\n",
       "      <td>NaN</td>\n",
       "    </tr>\n",
       "    <tr>\n",
       "      <th>2877038</th>\n",
       "      <td>1</td>\n",
       "      <td>ICC</td>\n",
       "      <td>80728306</td>\n",
       "      <td>1195818 Muscle Coach</td>\n",
       "      <td>Daniel Tesch</td>\n",
       "      <td>(042) 386-5958</td>\n",
       "      <td>danny@musclecoach.com.au</td>\n",
       "      <td>QLD</td>\n",
       "      <td>Australia</td>\n",
       "      <td>di256</td>\n",
       "      <td>...</td>\n",
       "      <td>NaN</td>\n",
       "      <td>NaN</td>\n",
       "      <td>13</td>\n",
       "      <td>4</td>\n",
       "      <td>0</td>\n",
       "      <td>0</td>\n",
       "      <td>1</td>\n",
       "      <td>0</td>\n",
       "      <td>NaN</td>\n",
       "      <td>NaN</td>\n",
       "    </tr>\n",
       "    <tr>\n",
       "      <th>2877338</th>\n",
       "      <td>0</td>\n",
       "      <td>NaN</td>\n",
       "      <td>27117981</td>\n",
       "      <td>1046349 Halifax NZ</td>\n",
       "      <td>Andrew Gibbs</td>\n",
       "      <td>(649) 309-0088</td>\n",
       "      <td>andrew.gibbs@halifaxonline.co.nz</td>\n",
       "      <td>NaN</td>\n",
       "      <td>New Zealand</td>\n",
       "      <td>ge256</td>\n",
       "      <td>...</td>\n",
       "      <td>NaN</td>\n",
       "      <td>NaN</td>\n",
       "      <td>35</td>\n",
       "      <td>0</td>\n",
       "      <td>0</td>\n",
       "      <td>0</td>\n",
       "      <td>36</td>\n",
       "      <td>139469</td>\n",
       "      <td>$3,042.10</td>\n",
       "      <td>NaN</td>\n",
       "    </tr>\n",
       "    <tr>\n",
       "      <th>2877238</th>\n",
       "      <td>1</td>\n",
       "      <td>ICC</td>\n",
       "      <td>48524957</td>\n",
       "      <td>1098532 momables.com</td>\n",
       "      <td>Troy Broussard</td>\n",
       "      <td>NaN</td>\n",
       "      <td>troy@troybroussard.com</td>\n",
       "      <td>FL</td>\n",
       "      <td>United States</td>\n",
       "      <td>gi256</td>\n",
       "      <td>...</td>\n",
       "      <td>10</td>\n",
       "      <td>Automation is everything</td>\n",
       "      <td>258</td>\n",
       "      <td>2</td>\n",
       "      <td>6</td>\n",
       "      <td>13</td>\n",
       "      <td>113620</td>\n",
       "      <td>32324</td>\n",
       "      <td>$5,650.00</td>\n",
       "      <td>NaN</td>\n",
       "    </tr>\n",
       "    <tr>\n",
       "      <th>2875837</th>\n",
       "      <td>1</td>\n",
       "      <td>ICC</td>\n",
       "      <td>62483619</td>\n",
       "      <td>1142173 Win More Clients</td>\n",
       "      <td>Tim Hyde</td>\n",
       "      <td>'+61407450744</td>\n",
       "      <td>tim@winmoreclients.com.au</td>\n",
       "      <td>ACT</td>\n",
       "      <td>Australia</td>\n",
       "      <td>nl256</td>\n",
       "      <td>...</td>\n",
       "      <td>NaN</td>\n",
       "      <td>NaN</td>\n",
       "      <td>5</td>\n",
       "      <td>0</td>\n",
       "      <td>0</td>\n",
       "      <td>0</td>\n",
       "      <td>0</td>\n",
       "      <td>0</td>\n",
       "      <td>NaN</td>\n",
       "      <td>Cancelled</td>\n",
       "    </tr>\n",
       "  </tbody>\n",
       "</table>\n",
       "<p>5 rows × 34 columns</p>\n",
       "</div>"
      ],
      "text/plain": [
       "                      Partner ? Partner Program  Customer Internal ID  \\\n",
       "Contract Internal ID                                                    \n",
       "2876838                       1       Affiliate              80168791   \n",
       "2877038                       1             ICC              80728306   \n",
       "2877338                       0             NaN              27117981   \n",
       "2877238                       1             ICC              48524957   \n",
       "2875837                       1             ICC              62483619   \n",
       "\n",
       "                                      Customer Primary Contact  \\\n",
       "Contract Internal ID                                             \n",
       "2876838                   1195168 Leaders R Us   Michael Grimm   \n",
       "2877038                   1195818 Muscle Coach    Daniel Tesch   \n",
       "2877338                     1046349 Halifax NZ    Andrew Gibbs   \n",
       "2877238                   1098532 momables.com  Troy Broussard   \n",
       "2875837               1142173 Win More Clients        Tim Hyde   \n",
       "\n",
       "                               Phone                             Email  \\\n",
       "Contract Internal ID                                                     \n",
       "2876838               (818) 253-1762         michael@poorjellyfish.com   \n",
       "2877038               (042) 386-5958          danny@musclecoach.com.au   \n",
       "2877338               (649) 309-0088  andrew.gibbs@halifaxonline.co.nz   \n",
       "2877238                          NaN            troy@troybroussard.com   \n",
       "2875837                '+61407450744         tim@winmoreclients.com.au   \n",
       "\n",
       "                     Billing State/Province Billing Country Login Name  \\\n",
       "Contract Internal ID                                                     \n",
       "2876838                                  FL   United States      ax256   \n",
       "2877038                                 QLD       Australia      di256   \n",
       "2877338                                 NaN     New Zealand      ge256   \n",
       "2877238                                  FL   United States      gi256   \n",
       "2875837                                 ACT       Australia      nl256   \n",
       "\n",
       "                        ...     FirstCompanyNPS           FirstNPSComment  \\\n",
       "Contract Internal ID    ...                                                 \n",
       "2876838                 ...                 NaN                       NaN   \n",
       "2877038                 ...                 NaN                       NaN   \n",
       "2877338                 ...                 NaN                       NaN   \n",
       "2877238                 ...                  10  Automation is everything   \n",
       "2875837                 ...                 NaN                       NaN   \n",
       "\n",
       "                      TotalLoginslast2months  Campaignspublishedlast2months  \\\n",
       "Contract Internal ID                                                          \n",
       "2876838                                    2                              0   \n",
       "2877038                                   13                              4   \n",
       "2877338                                   35                              0   \n",
       "2877238                                  258                              2   \n",
       "2875837                                    5                              0   \n",
       "\n",
       "                      Camp20 Broadcastssentlast2months     ACC  \\\n",
       "Contract Internal ID                                             \n",
       "2876838                    0                         1       0   \n",
       "2877038                    0                         0       1   \n",
       "2877338                    0                         0      36   \n",
       "2877238                    6                        13  113620   \n",
       "2875837                    0                         0       0   \n",
       "\n",
       "                     APIHitslast2months  Payment$last2months      Status  \n",
       "Contract Internal ID                                                      \n",
       "2876838                               0                   NaN        NaN  \n",
       "2877038                               0                   NaN        NaN  \n",
       "2877338                          139469            $3,042.10         NaN  \n",
       "2877238                           32324            $5,650.00         NaN  \n",
       "2875837                               0                   NaN  Cancelled  \n",
       "\n",
       "[5 rows x 34 columns]"
      ]
     },
     "execution_count": 22,
     "metadata": {},
     "output_type": "execute_result"
    }
   ],
   "source": [
    "data.head()"
   ]
  },
  {
   "cell_type": "code",
   "execution_count": 23,
   "metadata": {
    "collapsed": false
   },
   "outputs": [
    {
     "data": {
      "text/html": [
       "<div>\n",
       "<table border=\"1\" class=\"dataframe\">\n",
       "  <thead>\n",
       "    <tr style=\"text-align: right;\">\n",
       "      <th></th>\n",
       "      <th>Partner ?</th>\n",
       "      <th>Partner Program</th>\n",
       "      <th>Customer Internal ID</th>\n",
       "      <th>Customer</th>\n",
       "      <th>Primary Contact</th>\n",
       "      <th>Phone</th>\n",
       "      <th>Email</th>\n",
       "      <th>Billing State/Province</th>\n",
       "      <th>Billing Country</th>\n",
       "      <th>Login Name</th>\n",
       "      <th>...</th>\n",
       "      <th>FirstCompanyNPS</th>\n",
       "      <th>FirstNPSComment</th>\n",
       "      <th>TotalLoginslast2months</th>\n",
       "      <th>Campaignspublishedlast2months</th>\n",
       "      <th>Camp20</th>\n",
       "      <th>Broadcastssentlast2months</th>\n",
       "      <th>ACC</th>\n",
       "      <th>APIHitslast2months</th>\n",
       "      <th>Payment$last2months</th>\n",
       "      <th>Status</th>\n",
       "    </tr>\n",
       "    <tr>\n",
       "      <th>Contract Internal ID</th>\n",
       "      <th></th>\n",
       "      <th></th>\n",
       "      <th></th>\n",
       "      <th></th>\n",
       "      <th></th>\n",
       "      <th></th>\n",
       "      <th></th>\n",
       "      <th></th>\n",
       "      <th></th>\n",
       "      <th></th>\n",
       "      <th></th>\n",
       "      <th></th>\n",
       "      <th></th>\n",
       "      <th></th>\n",
       "      <th></th>\n",
       "      <th></th>\n",
       "      <th></th>\n",
       "      <th></th>\n",
       "      <th></th>\n",
       "      <th></th>\n",
       "      <th></th>\n",
       "    </tr>\n",
       "  </thead>\n",
       "  <tbody>\n",
       "    <tr>\n",
       "      <th>2970886</th>\n",
       "      <td>1</td>\n",
       "      <td>ICC</td>\n",
       "      <td>85925921</td>\n",
       "      <td>1209215 My Benefits At Work Ltd</td>\n",
       "      <td>Marie-Ann Abraham</td>\n",
       "      <td>01932 870785</td>\n",
       "      <td>marie-ann.abraham@abundant-solutions.co.uk</td>\n",
       "      <td>Surrey</td>\n",
       "      <td>United Kingdom (GB)</td>\n",
       "      <td>zk261</td>\n",
       "      <td>...</td>\n",
       "      <td>NaN</td>\n",
       "      <td>NaN</td>\n",
       "      <td>279</td>\n",
       "      <td>9</td>\n",
       "      <td>2</td>\n",
       "      <td>4</td>\n",
       "      <td>450</td>\n",
       "      <td>0</td>\n",
       "      <td>NaN</td>\n",
       "      <td>NaN</td>\n",
       "    </tr>\n",
       "    <tr>\n",
       "      <th>2968588</th>\n",
       "      <td>0</td>\n",
       "      <td>NaN</td>\n",
       "      <td>85915844</td>\n",
       "      <td>1209132 Triplefishy Limited</td>\n",
       "      <td>Austin Walters</td>\n",
       "      <td>7849642481</td>\n",
       "      <td>austin@triplefishy.co.uk</td>\n",
       "      <td>Rhondda Cynon Taff</td>\n",
       "      <td>United Kingdom (GB)</td>\n",
       "      <td>zl261</td>\n",
       "      <td>...</td>\n",
       "      <td>NaN</td>\n",
       "      <td>NaN</td>\n",
       "      <td>NaN</td>\n",
       "      <td>NaN</td>\n",
       "      <td>NaN</td>\n",
       "      <td>NaN</td>\n",
       "      <td>NaN</td>\n",
       "      <td>NaN</td>\n",
       "      <td>NaN</td>\n",
       "      <td>Cancelled</td>\n",
       "    </tr>\n",
       "    <tr>\n",
       "      <th>2971987</th>\n",
       "      <td>0</td>\n",
       "      <td>NaN</td>\n",
       "      <td>64548252</td>\n",
       "      <td>1151202 Flaxmere House</td>\n",
       "      <td>Vanessa Kerridge</td>\n",
       "      <td>(027) 278-5655</td>\n",
       "      <td>vanessa@flaxmerehouse.co.nz</td>\n",
       "      <td>NaN</td>\n",
       "      <td>New Zealand</td>\n",
       "      <td>zn261</td>\n",
       "      <td>...</td>\n",
       "      <td>NaN</td>\n",
       "      <td>NaN</td>\n",
       "      <td>25</td>\n",
       "      <td>0</td>\n",
       "      <td>1</td>\n",
       "      <td>0</td>\n",
       "      <td>52</td>\n",
       "      <td>347</td>\n",
       "      <td>NaN</td>\n",
       "      <td>NaN</td>\n",
       "    </tr>\n",
       "    <tr>\n",
       "      <th>2970990</th>\n",
       "      <td>0</td>\n",
       "      <td>NaN</td>\n",
       "      <td>85372222</td>\n",
       "      <td>1206130 Quotable PR &amp; Content</td>\n",
       "      <td>Rebecca Hasulak</td>\n",
       "      <td>(480) 599-6280</td>\n",
       "      <td>rebecca@quotablepr.com</td>\n",
       "      <td>AZ</td>\n",
       "      <td>United States</td>\n",
       "      <td>zo261</td>\n",
       "      <td>...</td>\n",
       "      <td>NaN</td>\n",
       "      <td>NaN</td>\n",
       "      <td>96</td>\n",
       "      <td>2</td>\n",
       "      <td>2</td>\n",
       "      <td>3</td>\n",
       "      <td>3532</td>\n",
       "      <td>12461</td>\n",
       "      <td>NaN</td>\n",
       "      <td>NaN</td>\n",
       "    </tr>\n",
       "    <tr>\n",
       "      <th>2966083</th>\n",
       "      <td>0</td>\n",
       "      <td>NaN</td>\n",
       "      <td>85665334</td>\n",
       "      <td>1207053 Maria Erazo Enterprises</td>\n",
       "      <td>maria erazo</td>\n",
       "      <td>(616) 723-6965</td>\n",
       "      <td>maria@mariaerazo.com</td>\n",
       "      <td>MI</td>\n",
       "      <td>United States</td>\n",
       "      <td>zz261</td>\n",
       "      <td>...</td>\n",
       "      <td>NaN</td>\n",
       "      <td>NaN</td>\n",
       "      <td>175</td>\n",
       "      <td>0</td>\n",
       "      <td>0</td>\n",
       "      <td>0</td>\n",
       "      <td>0</td>\n",
       "      <td>959</td>\n",
       "      <td>NaN</td>\n",
       "      <td>NaN</td>\n",
       "    </tr>\n",
       "  </tbody>\n",
       "</table>\n",
       "<p>5 rows × 34 columns</p>\n",
       "</div>"
      ],
      "text/plain": [
       "                      Partner ? Partner Program  Customer Internal ID  \\\n",
       "Contract Internal ID                                                    \n",
       "2970886                       1             ICC              85925921   \n",
       "2968588                       0             NaN              85915844   \n",
       "2971987                       0             NaN              64548252   \n",
       "2970990                       0             NaN              85372222   \n",
       "2966083                       0             NaN              85665334   \n",
       "\n",
       "                                             Customer    Primary Contact  \\\n",
       "Contract Internal ID                                                       \n",
       "2970886               1209215 My Benefits At Work Ltd  Marie-Ann Abraham   \n",
       "2968588                   1209132 Triplefishy Limited     Austin Walters   \n",
       "2971987                        1151202 Flaxmere House   Vanessa Kerridge   \n",
       "2970990                 1206130 Quotable PR & Content    Rebecca Hasulak   \n",
       "2966083               1207053 Maria Erazo Enterprises        maria erazo   \n",
       "\n",
       "                               Phone  \\\n",
       "Contract Internal ID                   \n",
       "2970886                 01932 870785   \n",
       "2968588                   7849642481   \n",
       "2971987               (027) 278-5655   \n",
       "2970990               (480) 599-6280   \n",
       "2966083               (616) 723-6965   \n",
       "\n",
       "                                                           Email  \\\n",
       "Contract Internal ID                                               \n",
       "2970886               marie-ann.abraham@abundant-solutions.co.uk   \n",
       "2968588                                 austin@triplefishy.co.uk   \n",
       "2971987                              vanessa@flaxmerehouse.co.nz   \n",
       "2970990                                   rebecca@quotablepr.com   \n",
       "2966083                                     maria@mariaerazo.com   \n",
       "\n",
       "                     Billing State/Province      Billing Country Login Name  \\\n",
       "Contract Internal ID                                                          \n",
       "2970886                              Surrey  United Kingdom (GB)      zk261   \n",
       "2968588                  Rhondda Cynon Taff  United Kingdom (GB)      zl261   \n",
       "2971987                                 NaN          New Zealand      zn261   \n",
       "2970990                                  AZ        United States      zo261   \n",
       "2966083                                  MI        United States      zz261   \n",
       "\n",
       "                        ...     FirstCompanyNPS FirstNPSComment  \\\n",
       "Contract Internal ID    ...                                       \n",
       "2970886                 ...                 NaN             NaN   \n",
       "2968588                 ...                 NaN             NaN   \n",
       "2971987                 ...                 NaN             NaN   \n",
       "2970990                 ...                 NaN             NaN   \n",
       "2966083                 ...                 NaN             NaN   \n",
       "\n",
       "                      TotalLoginslast2months  Campaignspublishedlast2months  \\\n",
       "Contract Internal ID                                                          \n",
       "2970886                                  279                              9   \n",
       "2968588                                  NaN                            NaN   \n",
       "2971987                                   25                              0   \n",
       "2970990                                   96                              2   \n",
       "2966083                                  175                              0   \n",
       "\n",
       "                      Camp20 Broadcastssentlast2months   ACC  \\\n",
       "Contract Internal ID                                           \n",
       "2970886                    2                         4   450   \n",
       "2968588                  NaN                       NaN   NaN   \n",
       "2971987                    1                         0    52   \n",
       "2970990                    2                         3  3532   \n",
       "2966083                    0                         0     0   \n",
       "\n",
       "                     APIHitslast2months  Payment$last2months      Status  \n",
       "Contract Internal ID                                                      \n",
       "2970886                               0                   NaN        NaN  \n",
       "2968588                             NaN                   NaN  Cancelled  \n",
       "2971987                             347                   NaN        NaN  \n",
       "2970990                           12461                   NaN        NaN  \n",
       "2966083                             959                   NaN        NaN  \n",
       "\n",
       "[5 rows x 34 columns]"
      ]
     },
     "execution_count": 23,
     "metadata": {},
     "output_type": "execute_result"
    }
   ],
   "source": [
    "data.tail()"
   ]
  },
  {
   "cell_type": "code",
   "execution_count": 24,
   "metadata": {
    "collapsed": false
   },
   "outputs": [
    {
     "data": {
      "text/plain": [
       "(950, 34)"
      ]
     },
     "execution_count": 24,
     "metadata": {},
     "output_type": "execute_result"
    }
   ],
   "source": [
    "data.shape"
   ]
  },
  {
   "cell_type": "code",
   "execution_count": 25,
   "metadata": {
    "collapsed": true
   },
   "outputs": [],
   "source": [
    "%matplotlib inline"
   ]
  },
  {
   "cell_type": "code",
   "execution_count": 28,
   "metadata": {
    "collapsed": false,
    "scrolled": true
   },
   "outputs": [],
   "source": [
    "X = data[['Customer Internal ID']]"
   ]
  },
  {
   "cell_type": "code",
   "execution_count": 29,
   "metadata": {
    "collapsed": false
   },
   "outputs": [
    {
     "data": {
      "text/html": [
       "<div>\n",
       "<table border=\"1\" class=\"dataframe\">\n",
       "  <thead>\n",
       "    <tr style=\"text-align: right;\">\n",
       "      <th></th>\n",
       "      <th>Customer Internal ID</th>\n",
       "    </tr>\n",
       "    <tr>\n",
       "      <th>Contract Internal ID</th>\n",
       "      <th></th>\n",
       "    </tr>\n",
       "  </thead>\n",
       "  <tbody>\n",
       "    <tr>\n",
       "      <th>2876838</th>\n",
       "      <td>80168791</td>\n",
       "    </tr>\n",
       "    <tr>\n",
       "      <th>2877038</th>\n",
       "      <td>80728306</td>\n",
       "    </tr>\n",
       "    <tr>\n",
       "      <th>2877338</th>\n",
       "      <td>27117981</td>\n",
       "    </tr>\n",
       "    <tr>\n",
       "      <th>2877238</th>\n",
       "      <td>48524957</td>\n",
       "    </tr>\n",
       "    <tr>\n",
       "      <th>2875837</th>\n",
       "      <td>62483619</td>\n",
       "    </tr>\n",
       "  </tbody>\n",
       "</table>\n",
       "</div>"
      ],
      "text/plain": [
       "                      Customer Internal ID\n",
       "Contract Internal ID                      \n",
       "2876838                           80168791\n",
       "2877038                           80728306\n",
       "2877338                           27117981\n",
       "2877238                           48524957\n",
       "2875837                           62483619"
      ]
     },
     "execution_count": 29,
     "metadata": {},
     "output_type": "execute_result"
    }
   ],
   "source": [
    "X.head()"
   ]
  },
  {
   "cell_type": "code",
   "execution_count": 30,
   "metadata": {
    "collapsed": false
   },
   "outputs": [
    {
     "name": "stdout",
     "output_type": "stream",
     "text": [
      "<class 'pandas.core.frame.DataFrame'>\n"
     ]
    }
   ],
   "source": [
    "print type(X)"
   ]
  },
  {
   "cell_type": "code",
   "execution_count": 36,
   "metadata": {
    "collapsed": false
   },
   "outputs": [
    {
     "name": "stdout",
     "output_type": "stream",
     "text": [
      "(950, 1)\n"
     ]
    }
   ],
   "source": [
    "print X.shape"
   ]
  },
  {
   "cell_type": "code",
   "execution_count": 31,
   "metadata": {
    "collapsed": true
   },
   "outputs": [],
   "source": [
    "y = data['Status']"
   ]
  },
  {
   "cell_type": "code",
   "execution_count": 33,
   "metadata": {
    "collapsed": false
   },
   "outputs": [
    {
     "data": {
      "text/plain": [
       "Contract Internal ID\n",
       "2876838          NaN\n",
       "2877038          NaN\n",
       "2877338          NaN\n",
       "2877238          NaN\n",
       "2875837    Cancelled\n",
       "Name: Status, dtype: object"
      ]
     },
     "execution_count": 33,
     "metadata": {},
     "output_type": "execute_result"
    }
   ],
   "source": [
    "y.head()"
   ]
  },
  {
   "cell_type": "code",
   "execution_count": 34,
   "metadata": {
    "collapsed": false
   },
   "outputs": [
    {
     "name": "stdout",
     "output_type": "stream",
     "text": [
      "<class 'pandas.core.series.Series'>\n"
     ]
    }
   ],
   "source": [
    "print type(y)"
   ]
  },
  {
   "cell_type": "code",
   "execution_count": 37,
   "metadata": {
    "collapsed": false
   },
   "outputs": [
    {
     "name": "stdout",
     "output_type": "stream",
     "text": [
      "(950L,)\n"
     ]
    }
   ],
   "source": [
    "print y.shape"
   ]
  },
  {
   "cell_type": "code",
   "execution_count": null,
   "metadata": {
    "collapsed": true
   },
   "outputs": [],
   "source": []
  }
 ],
 "metadata": {
  "kernelspec": {
   "display_name": "Python 2",
   "language": "python",
   "name": "python2"
  },
  "language_info": {
   "codemirror_mode": {
    "name": "ipython",
    "version": 2
   },
   "file_extension": ".py",
   "mimetype": "text/x-python",
   "name": "python",
   "nbconvert_exporter": "python",
   "pygments_lexer": "ipython2",
   "version": "2.7.11"
  }
 },
 "nbformat": 4,
 "nbformat_minor": 0
}
