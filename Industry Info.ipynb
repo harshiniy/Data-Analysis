{
 "cells": [
  {
   "cell_type": "code",
   "execution_count": 30,
   "metadata": {
    "collapsed": false
   },
   "outputs": [
    {
     "name": "stdout",
     "output_type": "stream",
     "text": [
      "gpi,coachcarolmazur,sw109,m216,iu,ut265,ej106,ir182,co241,freedomfirst,ad118,xf263,to175,bt135,mr182,bx123,st139,kj989,sashamiletic,angellawoffices,mg224,hasslefreeinvest,hl247,nf266,iu234,sy107,go268,py216,eq161,va182,m160,rl112,dq160,cu128,bk131,oj131,terryhale,an122,xu108,yl278,ek213,is246,zc113,xo133,pg164,oo220,hj121,bc215,mcc,xj161,ms988,ip143,fi240,bl263,ph110,rj226,gl232,creie,td106,infostars,iv104,ls231,lh243,nh193,zk282,li208,gk248,cravey,hn180,dx197,fd202,wo204,se244,dz213,ncrei,ka279,ld268,qc212,ha207,gres,xb288,me954,et998,ex109,fbrealwealth,ay128,jackmorrison,iy168,eg139,kinderreese,vn217,xh266,qv198,yj206,turnergroup,jje,pg232,lr205,nk279,it235,zy267,ns239,jb225,io213,yt164,kx218,yy194,wu130,vwu89018,ga205,m176,ds263,kpub,rk167,jc197,bz953,jp111,kw139,ownamerica,bx116,fn104,oc147,iv201,stayintouch,ckg,cs124,uo257,za184,wo198,jk283,rf216,ud105,jt932,ls239,we213,sk254,pm249,av293,ry261,ro989,ol155,cc113,bc189,zd206,synergyret,thesolution,ss206,ln221,ti244,xd121,gc128,cthomes,ob114,cz225,rg220,iz198,km250,fw198,gw210,rl163,ju139,zy257,lq127,tj151,mu961,wj205,zt132,pq947,ppin,aw115,doebler,qc247,um262,qh269,ow169,ag271,njresn,yn249,xn152,qs144,md221,rx177,rq264,wp191,eu204,qb176,zr151,kdx87462,farmmarketer,hs209,philahouse,lj216,rk244,lr156,qx215,hc218,mlp,fu131,theredx,ww250,kv162,richardrobbins,yy193,yp103,vg274,uw144,qn273,dw299,ll265,pi181,wc142,cb173,cq127,yo215,od970,jn202,gz178,yj225,cq224,buyingblock,cy121,tc233,du135,ke227,xr195,yp201,mj150,eu121,qq198,uw237,cc204,sy258,toddwalters,tvallc,aq177,fo228,mh206,aw239,iw214,xi178,ko176,mg206,tw112,zj176,fp227,fd997,be120,kd164,qd293,yf164,di162,canyoncapital,dh176,ox263,qa111,bv271,op163,gz118,cx993,pb132,gr158,vg232,vq129,m128,cs194,qo245,yh250,oq134,er218,fh222,fs272,hm202,clarkwestdev,fasteasyhomes,od152,dk158,no256,ut269,jwd90898,cb261,or174,eh136,gr216,gn132,tb228,ib228,nx974,realwealthaust,uy106,ai296,ma271,readytogo,ol150,gs157,fy165,cl117,el202,lh109,jz940,xet87318,wr118,isellcalgary,xm264,sy198,wj129,yc261,xt278,tb259,up205,homefriend,xm105,zq107,xh161,xd254,fs287,pactprosperity,tb173,uu210,sq100,nr106,oi241,ql289,tt114,vs242,js167,hn149,zg224,uz966,bg191,zn101,eh122,ia126,it138,hk182,ph241,sc268,sd238,vo210,cr206,db215,learnhowtodoit,sv241,iz257,ds188,rx168,hy126,mw281,en272,qq233,bronchick,piperpartners,eu191,wendypatton,ii147,oe173,qz220,sscommander,ac103,la196,ye190,jo270,as246,fu186,pg191,hb231,jh122,yw202,qy184,hardmoneybankers,lg241,qt291,uw263,zr281,iw218,wa261,ag190,ms211,db218,sk972,un116,yh105,la132,tjs91554,gy265,gh162,pg110,fx105,ybr89430,ur139,ak270,uf193,op202,m143,jb165,di153,qo259,nk166,jmz90918,sk105,ql161,ql265,vm164,ov190,trlrmnky5000,ek147,ob242,fn160,er171,eq154,eb142,zn110,ts282,hd110,lr123,siamlegal,sk192,zu213,ob131,gb187\n",
      "0.0419\n",
      "[u'7']\n"
     ]
    }
   ],
   "source": [
    "import json\n",
    "import urllib2\n",
    "import pandas as pd\n",
    "\n",
    "keywords = \"real estate\"\n",
    "keywords_str = \"+\".join(keywords.split())\n",
    "url = \"https://ancient-ceiling-125223.appspot.com/_ah/api/customerprofile/v1/app?keywords=%s\" % keywords_str\n",
    "results = json.loads(urllib2.urlopen(url).read())\n",
    "\n",
    "apps_list = results['appNames']\n",
    "percent = results['percentage']\n",
    "\n",
    "print apps_list\n",
    "print percent\n",
    "\n",
    "df = ([str.split(\",\") for str in apps_list])\n",
    "print str.split(' ', 1 )\n",
    "#print(df)"
   ]
  },
  {
   "cell_type": "code",
   "execution_count": 10,
   "metadata": {
    "collapsed": true
   },
   "outputs": [],
   "source": [
    "import json"
   ]
  },
  {
   "cell_type": "code",
   "execution_count": 11,
   "metadata": {
    "collapsed": true
   },
   "outputs": [],
   "source": [
    "import urllib2"
   ]
  },
  {
   "cell_type": "code",
   "execution_count": 12,
   "metadata": {
    "collapsed": true
   },
   "outputs": [],
   "source": [
    "keywords = \"marketing automation\"\n",
    "keywords_str = \"+\".join(keywords.split())\n",
    "url = \"https://ancient-ceiling-125223.appspot.com/_ah/api/customerprofile/v1/app?keywords=%s\" % keywords_str\n",
    "results = json.loads(urllib2.urlopen(url).read())"
   ]
  },
  {
   "cell_type": "code",
   "execution_count": 14,
   "metadata": {
    "collapsed": false
   },
   "outputs": [
    {
     "data": {
      "text/plain": [
       "{u'appNames': u'azima,cl970,wz257,uj154,uw155,nh175,ai228,ls210,ba219,aq185,ib187,tb258,serex,oe123,wr119,wc243,ab147,lh110,tx157,ht300,nv241,jt203,pg232,mh156,ml258,zg202,ob220,fo257,ds269,qv150,ni129',\n",
       " u'etag': u'\"Bck70PGJ3gcA9L5D2siddYigmcg/HpjV9gOXQcjEcJK4tqQkJB94YKM\"',\n",
       " u'kind': u'customerprofile#resourcesItem',\n",
       " u'percentage': 0.0031}"
      ]
     },
     "execution_count": 14,
     "metadata": {},
     "output_type": "execute_result"
    }
   ],
   "source": [
    "results"
   ]
  },
  {
   "cell_type": "code",
   "execution_count": 15,
   "metadata": {
    "collapsed": true
   },
   "outputs": [],
   "source": [
    "apps_list = results['appNames']"
   ]
  },
  {
   "cell_type": "code",
   "execution_count": 16,
   "metadata": {
    "collapsed": true
   },
   "outputs": [],
   "source": [
    "percent = results['percentage']"
   ]
  },
  {
   "cell_type": "code",
   "execution_count": 17,
   "metadata": {
    "collapsed": false
   },
   "outputs": [
    {
     "name": "stdout",
     "output_type": "stream",
     "text": [
      "azima,cl970,wz257,uj154,uw155,nh175,ai228,ls210,ba219,aq185,ib187,tb258,serex,oe123,wr119,wc243,ab147,lh110,tx157,ht300,nv241,jt203,pg232,mh156,ml258,zg202,ob220,fo257,ds269,qv150,ni129\n"
     ]
    }
   ],
   "source": [
    "print apps_list"
   ]
  },
  {
   "cell_type": "code",
   "execution_count": 18,
   "metadata": {
    "collapsed": false
   },
   "outputs": [
    {
     "name": "stdout",
     "output_type": "stream",
     "text": [
      "0.0031\n"
     ]
    }
   ],
   "source": [
    "print percent"
   ]
  },
  {
   "cell_type": "code",
   "execution_count": 2,
   "metadata": {
    "collapsed": false
   },
   "outputs": [
    {
     "ename": "URLError",
     "evalue": "<urlopen error [SSL: CERTIFICATE_VERIFY_FAILED] certificate verify failed (_ssl.c:590)>",
     "output_type": "error",
     "traceback": [
      "\u001b[1;31m---------------------------------------------------------------------------\u001b[0m",
      "\u001b[1;31mURLError\u001b[0m                                  Traceback (most recent call last)",
      "\u001b[1;32m<ipython-input-2-0a623db8fd95>\u001b[0m in \u001b[0;36m<module>\u001b[1;34m()\u001b[0m\n\u001b[0;32m      2\u001b[0m \u001b[0mkeywords_str\u001b[0m \u001b[1;33m=\u001b[0m \u001b[1;34m\"+\"\u001b[0m\u001b[1;33m.\u001b[0m\u001b[0mjoin\u001b[0m\u001b[1;33m(\u001b[0m\u001b[0mkeywords\u001b[0m\u001b[1;33m.\u001b[0m\u001b[0msplit\u001b[0m\u001b[1;33m(\u001b[0m\u001b[1;33m)\u001b[0m\u001b[1;33m)\u001b[0m\u001b[1;33m\u001b[0m\u001b[0m\n\u001b[0;32m      3\u001b[0m \u001b[0murl\u001b[0m \u001b[1;33m=\u001b[0m \u001b[1;34m\"https://ancient-ceiling-125223.appspot.com/_ah/api/customerprofile/v1/app?keywords=%s\"\u001b[0m \u001b[1;33m%\u001b[0m \u001b[0mkeywords_str\u001b[0m\u001b[1;33m\u001b[0m\u001b[0m\n\u001b[1;32m----> 4\u001b[1;33m \u001b[0mresults\u001b[0m \u001b[1;33m=\u001b[0m \u001b[0mjson\u001b[0m\u001b[1;33m.\u001b[0m\u001b[0mloads\u001b[0m\u001b[1;33m(\u001b[0m\u001b[0murllib2\u001b[0m\u001b[1;33m.\u001b[0m\u001b[0murlopen\u001b[0m\u001b[1;33m(\u001b[0m\u001b[0murl\u001b[0m\u001b[1;33m)\u001b[0m\u001b[1;33m.\u001b[0m\u001b[0mread\u001b[0m\u001b[1;33m(\u001b[0m\u001b[1;33m)\u001b[0m\u001b[1;33m)\u001b[0m\u001b[1;33m\u001b[0m\u001b[0m\n\u001b[0m",
      "\u001b[1;32mC:\\Users\\harshini.yedida\\AppData\\Local\\Continuum\\Anaconda2\\lib\\urllib2.pyc\u001b[0m in \u001b[0;36murlopen\u001b[1;34m(url, data, timeout, cafile, capath, cadefault, context)\u001b[0m\n\u001b[0;32m    152\u001b[0m     \u001b[1;32melse\u001b[0m\u001b[1;33m:\u001b[0m\u001b[1;33m\u001b[0m\u001b[0m\n\u001b[0;32m    153\u001b[0m         \u001b[0mopener\u001b[0m \u001b[1;33m=\u001b[0m \u001b[0m_opener\u001b[0m\u001b[1;33m\u001b[0m\u001b[0m\n\u001b[1;32m--> 154\u001b[1;33m     \u001b[1;32mreturn\u001b[0m \u001b[0mopener\u001b[0m\u001b[1;33m.\u001b[0m\u001b[0mopen\u001b[0m\u001b[1;33m(\u001b[0m\u001b[0murl\u001b[0m\u001b[1;33m,\u001b[0m \u001b[0mdata\u001b[0m\u001b[1;33m,\u001b[0m \u001b[0mtimeout\u001b[0m\u001b[1;33m)\u001b[0m\u001b[1;33m\u001b[0m\u001b[0m\n\u001b[0m\u001b[0;32m    155\u001b[0m \u001b[1;33m\u001b[0m\u001b[0m\n\u001b[0;32m    156\u001b[0m \u001b[1;32mdef\u001b[0m \u001b[0minstall_opener\u001b[0m\u001b[1;33m(\u001b[0m\u001b[0mopener\u001b[0m\u001b[1;33m)\u001b[0m\u001b[1;33m:\u001b[0m\u001b[1;33m\u001b[0m\u001b[0m\n",
      "\u001b[1;32mC:\\Users\\harshini.yedida\\AppData\\Local\\Continuum\\Anaconda2\\lib\\urllib2.pyc\u001b[0m in \u001b[0;36mopen\u001b[1;34m(self, fullurl, data, timeout)\u001b[0m\n\u001b[0;32m    429\u001b[0m             \u001b[0mreq\u001b[0m \u001b[1;33m=\u001b[0m \u001b[0mmeth\u001b[0m\u001b[1;33m(\u001b[0m\u001b[0mreq\u001b[0m\u001b[1;33m)\u001b[0m\u001b[1;33m\u001b[0m\u001b[0m\n\u001b[0;32m    430\u001b[0m \u001b[1;33m\u001b[0m\u001b[0m\n\u001b[1;32m--> 431\u001b[1;33m         \u001b[0mresponse\u001b[0m \u001b[1;33m=\u001b[0m \u001b[0mself\u001b[0m\u001b[1;33m.\u001b[0m\u001b[0m_open\u001b[0m\u001b[1;33m(\u001b[0m\u001b[0mreq\u001b[0m\u001b[1;33m,\u001b[0m \u001b[0mdata\u001b[0m\u001b[1;33m)\u001b[0m\u001b[1;33m\u001b[0m\u001b[0m\n\u001b[0m\u001b[0;32m    432\u001b[0m \u001b[1;33m\u001b[0m\u001b[0m\n\u001b[0;32m    433\u001b[0m         \u001b[1;31m# post-process response\u001b[0m\u001b[1;33m\u001b[0m\u001b[1;33m\u001b[0m\u001b[0m\n",
      "\u001b[1;32mC:\\Users\\harshini.yedida\\AppData\\Local\\Continuum\\Anaconda2\\lib\\urllib2.pyc\u001b[0m in \u001b[0;36m_open\u001b[1;34m(self, req, data)\u001b[0m\n\u001b[0;32m    447\u001b[0m         \u001b[0mprotocol\u001b[0m \u001b[1;33m=\u001b[0m \u001b[0mreq\u001b[0m\u001b[1;33m.\u001b[0m\u001b[0mget_type\u001b[0m\u001b[1;33m(\u001b[0m\u001b[1;33m)\u001b[0m\u001b[1;33m\u001b[0m\u001b[0m\n\u001b[0;32m    448\u001b[0m         result = self._call_chain(self.handle_open, protocol, protocol +\n\u001b[1;32m--> 449\u001b[1;33m                                   '_open', req)\n\u001b[0m\u001b[0;32m    450\u001b[0m         \u001b[1;32mif\u001b[0m \u001b[0mresult\u001b[0m\u001b[1;33m:\u001b[0m\u001b[1;33m\u001b[0m\u001b[0m\n\u001b[0;32m    451\u001b[0m             \u001b[1;32mreturn\u001b[0m \u001b[0mresult\u001b[0m\u001b[1;33m\u001b[0m\u001b[0m\n",
      "\u001b[1;32mC:\\Users\\harshini.yedida\\AppData\\Local\\Continuum\\Anaconda2\\lib\\urllib2.pyc\u001b[0m in \u001b[0;36m_call_chain\u001b[1;34m(self, chain, kind, meth_name, *args)\u001b[0m\n\u001b[0;32m    407\u001b[0m             \u001b[0mfunc\u001b[0m \u001b[1;33m=\u001b[0m \u001b[0mgetattr\u001b[0m\u001b[1;33m(\u001b[0m\u001b[0mhandler\u001b[0m\u001b[1;33m,\u001b[0m \u001b[0mmeth_name\u001b[0m\u001b[1;33m)\u001b[0m\u001b[1;33m\u001b[0m\u001b[0m\n\u001b[0;32m    408\u001b[0m \u001b[1;33m\u001b[0m\u001b[0m\n\u001b[1;32m--> 409\u001b[1;33m             \u001b[0mresult\u001b[0m \u001b[1;33m=\u001b[0m \u001b[0mfunc\u001b[0m\u001b[1;33m(\u001b[0m\u001b[1;33m*\u001b[0m\u001b[0margs\u001b[0m\u001b[1;33m)\u001b[0m\u001b[1;33m\u001b[0m\u001b[0m\n\u001b[0m\u001b[0;32m    410\u001b[0m             \u001b[1;32mif\u001b[0m \u001b[0mresult\u001b[0m \u001b[1;32mis\u001b[0m \u001b[1;32mnot\u001b[0m \u001b[0mNone\u001b[0m\u001b[1;33m:\u001b[0m\u001b[1;33m\u001b[0m\u001b[0m\n\u001b[0;32m    411\u001b[0m                 \u001b[1;32mreturn\u001b[0m \u001b[0mresult\u001b[0m\u001b[1;33m\u001b[0m\u001b[0m\n",
      "\u001b[1;32mC:\\Users\\harshini.yedida\\AppData\\Local\\Continuum\\Anaconda2\\lib\\urllib2.pyc\u001b[0m in \u001b[0;36mhttps_open\u001b[1;34m(self, req)\u001b[0m\n\u001b[0;32m   1238\u001b[0m         \u001b[1;32mdef\u001b[0m \u001b[0mhttps_open\u001b[0m\u001b[1;33m(\u001b[0m\u001b[0mself\u001b[0m\u001b[1;33m,\u001b[0m \u001b[0mreq\u001b[0m\u001b[1;33m)\u001b[0m\u001b[1;33m:\u001b[0m\u001b[1;33m\u001b[0m\u001b[0m\n\u001b[0;32m   1239\u001b[0m             return self.do_open(httplib.HTTPSConnection, req,\n\u001b[1;32m-> 1240\u001b[1;33m                 context=self._context)\n\u001b[0m\u001b[0;32m   1241\u001b[0m \u001b[1;33m\u001b[0m\u001b[0m\n\u001b[0;32m   1242\u001b[0m         \u001b[0mhttps_request\u001b[0m \u001b[1;33m=\u001b[0m \u001b[0mAbstractHTTPHandler\u001b[0m\u001b[1;33m.\u001b[0m\u001b[0mdo_request_\u001b[0m\u001b[1;33m\u001b[0m\u001b[0m\n",
      "\u001b[1;32mC:\\Users\\harshini.yedida\\AppData\\Local\\Continuum\\Anaconda2\\lib\\urllib2.pyc\u001b[0m in \u001b[0;36mdo_open\u001b[1;34m(self, http_class, req, **http_conn_args)\u001b[0m\n\u001b[0;32m   1195\u001b[0m         \u001b[1;32mexcept\u001b[0m \u001b[0msocket\u001b[0m\u001b[1;33m.\u001b[0m\u001b[0merror\u001b[0m\u001b[1;33m,\u001b[0m \u001b[0merr\u001b[0m\u001b[1;33m:\u001b[0m \u001b[1;31m# XXX what error?\u001b[0m\u001b[1;33m\u001b[0m\u001b[0m\n\u001b[0;32m   1196\u001b[0m             \u001b[0mh\u001b[0m\u001b[1;33m.\u001b[0m\u001b[0mclose\u001b[0m\u001b[1;33m(\u001b[0m\u001b[1;33m)\u001b[0m\u001b[1;33m\u001b[0m\u001b[0m\n\u001b[1;32m-> 1197\u001b[1;33m             \u001b[1;32mraise\u001b[0m \u001b[0mURLError\u001b[0m\u001b[1;33m(\u001b[0m\u001b[0merr\u001b[0m\u001b[1;33m)\u001b[0m\u001b[1;33m\u001b[0m\u001b[0m\n\u001b[0m\u001b[0;32m   1198\u001b[0m         \u001b[1;32melse\u001b[0m\u001b[1;33m:\u001b[0m\u001b[1;33m\u001b[0m\u001b[0m\n\u001b[0;32m   1199\u001b[0m             \u001b[1;32mtry\u001b[0m\u001b[1;33m:\u001b[0m\u001b[1;33m\u001b[0m\u001b[0m\n",
      "\u001b[1;31mURLError\u001b[0m: <urlopen error [SSL: CERTIFICATE_VERIFY_FAILED] certificate verify failed (_ssl.c:590)>"
     ]
    }
   ],
   "source": [
    "keywords = \"fitness\"\n",
    "keywords_str = \"+\".join(keywords.split())\n",
    "url = \"https://ancient-ceiling-125223.appspot.com/_ah/api/customerprofile/v1/app?keywords=%s\" % keywords_str\n",
    "results = json.loads(urllib2.urlopen(url).read())"
   ]
  },
  {
   "cell_type": "code",
   "execution_count": null,
   "metadata": {
    "collapsed": true
   },
   "outputs": [],
   "source": []
  }
 ],
 "metadata": {
  "kernelspec": {
   "display_name": "Python 2",
   "language": "python",
   "name": "python2"
  },
  "language_info": {
   "codemirror_mode": {
    "name": "ipython",
    "version": 2
   },
   "file_extension": ".py",
   "mimetype": "text/x-python",
   "name": "python",
   "nbconvert_exporter": "python",
   "pygments_lexer": "ipython2",
   "version": "2.7.11"
  }
 },
 "nbformat": 4,
 "nbformat_minor": 0
}
